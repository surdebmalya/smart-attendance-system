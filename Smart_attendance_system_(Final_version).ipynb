{
  "nbformat": 4,
  "nbformat_minor": 0,
  "metadata": {
    "colab": {
      "provenance": []
    },
    "kernelspec": {
      "name": "python3",
      "display_name": "Python 3"
    },
    "language_info": {
      "name": "python"
    },
    "accelerator": "GPU",
    "gpuClass": "standard"
  },
  "cells": [
    {
      "cell_type": "markdown",
      "source": [
        "## Loading Libraries"
      ],
      "metadata": {
        "id": "Bxx2v3EiTx93"
      }
    },
    {
      "cell_type": "code",
      "execution_count": null,
      "metadata": {
        "colab": {
          "base_uri": "https://localhost:8080/"
        },
        "id": "xyliL4pJ2d9r",
        "outputId": "ba7e2e14-582a-49ae-eedf-fb6e48a4a233"
      },
      "outputs": [
        {
          "output_type": "stream",
          "name": "stdout",
          "text": [
            "Looking in indexes: https://pypi.org/simple, https://us-python.pkg.dev/colab-wheels/public/simple/\n",
            "Requirement already satisfied: face-recognition in /usr/local/lib/python3.9/dist-packages (1.3.0)\n",
            "Requirement already satisfied: Click>=6.0 in /usr/local/lib/python3.9/dist-packages (from face-recognition) (8.1.3)\n",
            "Requirement already satisfied: face-recognition-models>=0.3.0 in /usr/local/lib/python3.9/dist-packages (from face-recognition) (0.3.0)\n",
            "Requirement already satisfied: Pillow in /usr/local/lib/python3.9/dist-packages (from face-recognition) (8.4.0)\n",
            "Requirement already satisfied: numpy in /usr/local/lib/python3.9/dist-packages (from face-recognition) (1.22.4)\n",
            "Requirement already satisfied: dlib>=19.7 in /usr/local/lib/python3.9/dist-packages (from face-recognition) (19.24.1)\n",
            "Looking in indexes: https://pypi.org/simple, https://us-python.pkg.dev/colab-wheels/public/simple/\n",
            "Requirement already satisfied: xlsxwriter in /usr/local/lib/python3.9/dist-packages (3.0.9)\n"
          ]
        }
      ],
      "source": [
        "!pip install face-recognition\n",
        "!pip install xlsxwriter"
      ]
    },
    {
      "cell_type": "code",
      "source": [
        "from google.colab import drive\n",
        "drive.mount('/content/drive')"
      ],
      "metadata": {
        "colab": {
          "base_uri": "https://localhost:8080/"
        },
        "id": "ndbPpDHq23TH",
        "outputId": "75810673-9a9d-4871-c5bc-5aabe223c877"
      },
      "execution_count": null,
      "outputs": [
        {
          "output_type": "stream",
          "name": "stdout",
          "text": [
            "Drive already mounted at /content/drive; to attempt to forcibly remount, call drive.mount(\"/content/drive\", force_remount=True).\n"
          ]
        }
      ]
    },
    {
      "cell_type": "code",
      "source": [
        "import face_recognition"
      ],
      "metadata": {
        "id": "kv9eis1p2okl"
      },
      "execution_count": null,
      "outputs": []
    },
    {
      "cell_type": "code",
      "source": [
        "base_image_path = '/content/drive/MyDrive/Face_Recognition/'"
      ],
      "metadata": {
        "id": "QaByMKzC4sna"
      },
      "execution_count": null,
      "outputs": []
    },
    {
      "cell_type": "markdown",
      "source": [
        "## Locating faces from an image"
      ],
      "metadata": {
        "id": "IuQ9mC-vD9D9"
      }
    },
    {
      "cell_type": "code",
      "source": [
        "image = face_recognition.load_image_file(base_image_path + \"test.jpg\")\n",
        "face_locations = face_recognition.face_locations(image, model=\"cnn\")"
      ],
      "metadata": {
        "id": "gBb1jC9E2qys"
      },
      "execution_count": null,
      "outputs": []
    },
    {
      "cell_type": "code",
      "source": [
        "print(\"I found {} face(s) in this photograph.\".format(len(face_locations)))"
      ],
      "metadata": {
        "colab": {
          "base_uri": "https://localhost:8080/"
        },
        "id": "ssBK-Rnn2qvD",
        "outputId": "d7b9da53-5fc9-49d6-a917-5027a3dddd59"
      },
      "execution_count": null,
      "outputs": [
        {
          "output_type": "stream",
          "name": "stdout",
          "text": [
            "I found 2 face(s) in this photograph.\n"
          ]
        }
      ]
    },
    {
      "cell_type": "markdown",
      "source": [
        "## Storing faces into drive"
      ],
      "metadata": {
        "id": "aHx8Eb39ECKD"
      }
    },
    {
      "cell_type": "code",
      "source": [
        "import os\n",
        "import shutil\n",
        "all_files = os.listdir(base_image_path)\n",
        "\n",
        "if 'unknown_faces' not in all_files:\n",
        "  os.mkdir(base_image_path + 'unknown_faces')\n",
        "else:\n",
        "  shutil.rmtree(base_image_path + 'unknown_faces')\n",
        "  os.mkdir(base_image_path + 'unknown_faces')"
      ],
      "metadata": {
        "id": "li-Ufh-bCFkc"
      },
      "execution_count": null,
      "outputs": []
    },
    {
      "cell_type": "code",
      "source": [
        "from PIL import Image\n",
        "count = 1\n",
        "for face_location in face_locations:\n",
        "    # Print the location of each face in this image\n",
        "    top, right, bottom, left = face_location\n",
        "    print(\"A face is located at pixel location Top: {}, Left: {}, Bottom: {}, Right: {}\".format(top, left, bottom, right))\n",
        "    # You can access the actual face itself like this:\n",
        "    face_image = image[top:bottom, left:right]\n",
        "    pil_image = Image.fromarray(face_image)\n",
        "    # saving the image\n",
        "    pil_image.save(f\"{base_image_path}unknown_faces/image{count}.jpg\")\n",
        "    count += 1\n",
        "    # showing the image\n",
        "    pil_image.show()"
      ],
      "metadata": {
        "colab": {
          "base_uri": "https://localhost:8080/",
          "height": 202
        },
        "id": "TMjk0_Hj2qta",
        "outputId": "516e5515-9770-45c8-e00e-2df6bf4a8136"
      },
      "execution_count": null,
      "outputs": [
        {
          "output_type": "stream",
          "name": "stdout",
          "text": [
            "A face is located at pixel location Top: 89, Left: 51, Bottom: 157, Right: 119\n"
          ]
        },
        {
          "output_type": "display_data",
          "data": {
            "text/plain": [
              "<PIL.Image.Image image mode=RGB size=68x68 at 0x7F00C22B3760>"
            ],
            "image/png": "[encoded data removed]"
          },
          "metadata": {}
        },
        {
          "output_type": "stream",
          "name": "stdout",
          "text": [
            "A face is located at pixel location Top: 42, Left: 152, Bottom: 124, Right: 234\n"
          ]
        },
        {
          "output_type": "display_data",
          "data": {
            "text/plain": [
              "<PIL.Image.Image image mode=RGB size=82x82 at 0x7F00C22B3E50>"
            ],
            "image/png": "[encoded data removed]"
          },
          "metadata": {}
        }
      ]
    },
    {
      "cell_type": "markdown",
      "source": [
        "## Predicting whether the faces are present or not"
      ],
      "metadata": {
        "id": "SjhH_NVbEKRC"
      }
    },
    {
      "cell_type": "code",
      "source": [
        "all_known_faces = os.listdir(base_image_path + 'known_faces')\n",
        "all_unknown_faces = os.listdir(base_image_path + 'unknown_faces')"
      ],
      "metadata": {
        "id": "fUjtp9T52qqP"
      },
      "execution_count": null,
      "outputs": []
    },
    {
      "cell_type": "code",
      "source": [
        "all_known_faces"
      ],
      "metadata": {
        "colab": {
          "base_uri": "https://localhost:8080/"
        },
        "id": "iHkTpPv42qot",
        "outputId": "35237f35-877b-4fe8-a81f-e3974a65af0d"
      },
      "execution_count": null,
      "outputs": [
        {
          "output_type": "execute_result",
          "data": {
            "text/plain": [
              "['alexa.jpg', 'alex.jpg', 'debmalya.jpg', 'arshia.jpg', 'angshuman.jpg']"
            ]
          },
          "metadata": {},
          "execution_count": 69
        }
      ]
    },
    {
      "cell_type": "code",
      "source": [
        "all_unknown_faces"
      ],
      "metadata": {
        "colab": {
          "base_uri": "https://localhost:8080/"
        },
        "id": "PFQjLp6TExGx",
        "outputId": "2f870142-3e7e-400a-86b1-6c6ff7e62f76"
      },
      "execution_count": null,
      "outputs": [
        {
          "output_type": "execute_result",
          "data": {
            "text/plain": [
              "['image1.jpg', 'image2.jpg']"
            ]
          },
          "metadata": {},
          "execution_count": 70
        }
      ]
    },
    {
      "cell_type": "code",
      "source": [
        "name_present_or_absent = dict()\n",
        "for knwon_face in all_known_faces:\n",
        "  knwon_name = knwon_face.split('.')[0]\n",
        "  name_present_or_absent[knwon_name] = 'absent'"
      ],
      "metadata": {
        "id": "zAiZTC01Jh-6"
      },
      "execution_count": null,
      "outputs": []
    },
    {
      "cell_type": "code",
      "source": [
        "name_present_or_absent"
      ],
      "metadata": {
        "colab": {
          "base_uri": "https://localhost:8080/"
        },
        "id": "j9qciayXKM2z",
        "outputId": "cba20573-dfe4-4e3b-b752-7817648ee939"
      },
      "execution_count": null,
      "outputs": [
        {
          "output_type": "execute_result",
          "data": {
            "text/plain": [
              "{'alexa': 'absent',\n",
              " 'alex': 'absent',\n",
              " 'debmalya': 'absent',\n",
              " 'arshia': 'absent',\n",
              " 'angshuman': 'absent'}"
            ]
          },
          "metadata": {},
          "execution_count": 72
        }
      ]
    },
    {
      "cell_type": "code",
      "source": [
        "for curr_known_face in all_known_faces:\n",
        "  picture_of_me = face_recognition.load_image_file(base_image_path + 'known_faces/' + curr_known_face)\n",
        "  my_face_encoding = face_recognition.face_encodings(picture_of_me)[0]\n",
        "  for curr_unknown_face in all_unknown_faces:\n",
        "    unknown_picture = face_recognition.load_image_file(base_image_path + 'unknown_faces/' + curr_unknown_face)\n",
        "    unknown_face_encoding = face_recognition.face_encodings(unknown_picture)\n",
        "    if(unknown_face_encoding==[]): break\n",
        "    else:\n",
        "      unknown_face_encoding = unknown_face_encoding[0]\n",
        "      results = face_recognition.compare_faces([my_face_encoding], unknown_face_encoding)\n",
        "      if results[0] == True:\n",
        "          print(\"It's a match\")\n",
        "          name = curr_known_face.split('.')[0]\n",
        "          name_present_or_absent[name] = 'present'\n",
        "          break"
      ],
      "metadata": {
        "id": "Gr0fuUXu2qd5",
        "colab": {
          "base_uri": "https://localhost:8080/"
        },
        "outputId": "3280b0d3-a436-44f7-e910-1563c43a9b2e"
      },
      "execution_count": null,
      "outputs": [
        {
          "output_type": "stream",
          "name": "stdout",
          "text": [
            "It's a match\n",
            "It's a match\n"
          ]
        }
      ]
    },
    {
      "cell_type": "code",
      "source": [
        "name_present_or_absent"
      ],
      "metadata": {
        "colab": {
          "base_uri": "https://localhost:8080/"
        },
        "id": "v80HCNcZKcRb",
        "outputId": "56b79a7f-4ded-4da4-f51c-20efde3b0d9d"
      },
      "execution_count": null,
      "outputs": [
        {
          "output_type": "execute_result",
          "data": {
            "text/plain": [
              "{'alexa': 'absent',\n",
              " 'alex': 'absent',\n",
              " 'debmalya': 'present',\n",
              " 'arshia': 'present',\n",
              " 'angshuman': 'absent'}"
            ]
          },
          "metadata": {},
          "execution_count": 74
        }
      ]
    },
    {
      "cell_type": "markdown",
      "source": [
        "## Storing the attendance"
      ],
      "metadata": {
        "id": "V6tzaDGvKnLE"
      }
    },
    {
      "cell_type": "code",
      "source": [
        "import os\n",
        "all_files = os.listdir(base_image_path)\n",
        "\n",
        "if 'attendance.xlsx' not in all_files:\n",
        "  f = open(base_image_path + 'attendance.xlsx', \"x\")\n",
        "  f.close()\n",
        "else:\n",
        "  f = open(base_image_path + 'attendance.xlsx', \"w\")\n",
        "  f.close()"
      ],
      "metadata": {
        "id": "Y7tChBcRKtdW"
      },
      "execution_count": null,
      "outputs": []
    },
    {
      "cell_type": "code",
      "source": [
        "import xlsxwriter\n",
        " \n",
        "workbook = xlsxwriter.Workbook(base_image_path + 'attendance.xlsx')\n",
        "worksheet = workbook.add_worksheet()\n",
        "\n",
        "col=0\n",
        "worksheet.write(0, col, 'Student Name')\n",
        "worksheet.write(0, col + 1, 'Present/Absent')\n",
        "row=1\n",
        "for key in name_present_or_absent.keys():\n",
        "  worksheet.write(row, col, key)\n",
        "  worksheet.write(row, col + 1, name_present_or_absent[key])\n",
        "  row += 1\n",
        "workbook.close()"
      ],
      "metadata": {
        "id": "VO7pSccAKuko"
      },
      "execution_count": null,
      "outputs": []
    },
    {
      "cell_type": "markdown",
      "source": [
        "## Deleting the Group Image"
      ],
      "metadata": {
        "id": "Gcm7ETJVpE53"
      }
    },
    {
      "cell_type": "code",
      "source": [
        "os.remove(base_image_path + \"test.jpg\")"
      ],
      "metadata": {
        "id": "w9mOYTsOpIpa"
      },
      "execution_count": null,
      "outputs": []
    },
    {
      "cell_type": "markdown",
      "source": [
        "## Front-end\n",
        "\n",
        "[Click Here](https://facerecognition.surdebmalya11.repl.co/)"
      ],
      "metadata": {
        "id": "1lDnFqGd3jqo"
      }
    }
  ]
}